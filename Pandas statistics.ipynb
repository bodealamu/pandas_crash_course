{
 "cells": [
  {
   "cell_type": "markdown",
   "id": "a53aeea5-bea7-409a-9739-5f26e934ecc6",
   "metadata": {},
   "source": [
    "# Statistical operations in pandas"
   ]
  },
  {
   "cell_type": "markdown",
   "id": "4d3974a5-c30c-4312-aa0e-b1b96d2a323c",
   "metadata": {},
   "source": [
    "This notebook covers the common statistical functions in pandas"
   ]
  },
  {
   "cell_type": "markdown",
   "id": "a681c815-8db0-48f4-942a-3a16ec662756",
   "metadata": {},
   "source": [
    "## Import the libraries"
   ]
  },
  {
   "cell_type": "code",
   "execution_count": 3,
   "id": "d7e2a810-1a17-4089-af72-983d4b1e040d",
   "metadata": {},
   "outputs": [],
   "source": [
    "import pandas as pd"
   ]
  },
  {
   "cell_type": "markdown",
   "id": "9dc5378d-8348-40e7-b93d-26b0a5b58012",
   "metadata": {},
   "source": [
    "## Import the dataset"
   ]
  },
  {
   "cell_type": "code",
   "execution_count": 4,
   "id": "61a8f81f-5ddf-4d1b-8782-059c0cb7b164",
   "metadata": {},
   "outputs": [],
   "source": [
    "df = pd.read_csv('vgsales.csv')"
   ]
  },
  {
   "cell_type": "code",
   "execution_count": 28,
   "id": "0e6392ff-1dd7-49a9-8403-e42d4cd06c45",
   "metadata": {},
   "outputs": [
    {
     "data": {
      "text/html": [
       "<div>\n",
       "<style scoped>\n",
       "    .dataframe tbody tr th:only-of-type {\n",
       "        vertical-align: middle;\n",
       "    }\n",
       "\n",
       "    .dataframe tbody tr th {\n",
       "        vertical-align: top;\n",
       "    }\n",
       "\n",
       "    .dataframe thead th {\n",
       "        text-align: right;\n",
       "    }\n",
       "</style>\n",
       "<table border=\"1\" class=\"dataframe\">\n",
       "  <thead>\n",
       "    <tr style=\"text-align: right;\">\n",
       "      <th></th>\n",
       "      <th>Rank</th>\n",
       "      <th>Name</th>\n",
       "      <th>Platform</th>\n",
       "      <th>Year</th>\n",
       "      <th>Genre</th>\n",
       "      <th>Publisher</th>\n",
       "      <th>NA_Sales</th>\n",
       "      <th>EU_Sales</th>\n",
       "      <th>JP_Sales</th>\n",
       "      <th>Other_Sales</th>\n",
       "      <th>Global_Sales</th>\n",
       "    </tr>\n",
       "  </thead>\n",
       "  <tbody>\n",
       "    <tr>\n",
       "      <th>14095</th>\n",
       "      <td>14097</td>\n",
       "      <td>Might &amp; Magic X: Legacy</td>\n",
       "      <td>PC</td>\n",
       "      <td>2014.0</td>\n",
       "      <td>Role-Playing</td>\n",
       "      <td>Ubisoft</td>\n",
       "      <td>0.0</td>\n",
       "      <td>0.03</td>\n",
       "      <td>0.0</td>\n",
       "      <td>0.0</td>\n",
       "      <td>0.04</td>\n",
       "    </tr>\n",
       "  </tbody>\n",
       "</table>\n",
       "</div>"
      ],
      "text/plain": [
       "        Rank                     Name Platform    Year         Genre  \\\n",
       "14095  14097  Might & Magic X: Legacy       PC  2014.0  Role-Playing   \n",
       "\n",
       "      Publisher  NA_Sales  EU_Sales  JP_Sales  Other_Sales  Global_Sales  \n",
       "14095   Ubisoft       0.0      0.03       0.0          0.0          0.04  "
      ]
     },
     "execution_count": 28,
     "metadata": {},
     "output_type": "execute_result"
    }
   ],
   "source": [
    "df.sample()"
   ]
  },
  {
   "cell_type": "markdown",
   "id": "58c2f778-eb87-4c2f-ac94-b4f709daadff",
   "metadata": {},
   "source": [
    "## Describe "
   ]
  },
  {
   "cell_type": "code",
   "execution_count": 8,
   "id": "945a30e2-7e57-464a-9667-3ec59070cc6b",
   "metadata": {},
   "outputs": [
    {
     "data": {
      "text/html": [
       "<div>\n",
       "<style scoped>\n",
       "    .dataframe tbody tr th:only-of-type {\n",
       "        vertical-align: middle;\n",
       "    }\n",
       "\n",
       "    .dataframe tbody tr th {\n",
       "        vertical-align: top;\n",
       "    }\n",
       "\n",
       "    .dataframe thead th {\n",
       "        text-align: right;\n",
       "    }\n",
       "</style>\n",
       "<table border=\"1\" class=\"dataframe\">\n",
       "  <thead>\n",
       "    <tr style=\"text-align: right;\">\n",
       "      <th></th>\n",
       "      <th>Rank</th>\n",
       "      <th>Year</th>\n",
       "      <th>NA_Sales</th>\n",
       "      <th>EU_Sales</th>\n",
       "      <th>JP_Sales</th>\n",
       "      <th>Other_Sales</th>\n",
       "      <th>Global_Sales</th>\n",
       "    </tr>\n",
       "  </thead>\n",
       "  <tbody>\n",
       "    <tr>\n",
       "      <th>count</th>\n",
       "      <td>16598.000000</td>\n",
       "      <td>16327.000000</td>\n",
       "      <td>16598.000000</td>\n",
       "      <td>16598.000000</td>\n",
       "      <td>16598.000000</td>\n",
       "      <td>16598.000000</td>\n",
       "      <td>16598.000000</td>\n",
       "    </tr>\n",
       "    <tr>\n",
       "      <th>mean</th>\n",
       "      <td>8300.605254</td>\n",
       "      <td>2006.406443</td>\n",
       "      <td>0.264667</td>\n",
       "      <td>0.146652</td>\n",
       "      <td>0.077782</td>\n",
       "      <td>0.048063</td>\n",
       "      <td>0.537441</td>\n",
       "    </tr>\n",
       "    <tr>\n",
       "      <th>std</th>\n",
       "      <td>4791.853933</td>\n",
       "      <td>5.828981</td>\n",
       "      <td>0.816683</td>\n",
       "      <td>0.505351</td>\n",
       "      <td>0.309291</td>\n",
       "      <td>0.188588</td>\n",
       "      <td>1.555028</td>\n",
       "    </tr>\n",
       "    <tr>\n",
       "      <th>min</th>\n",
       "      <td>1.000000</td>\n",
       "      <td>1980.000000</td>\n",
       "      <td>0.000000</td>\n",
       "      <td>0.000000</td>\n",
       "      <td>0.000000</td>\n",
       "      <td>0.000000</td>\n",
       "      <td>0.010000</td>\n",
       "    </tr>\n",
       "    <tr>\n",
       "      <th>10%</th>\n",
       "      <td>1661.700000</td>\n",
       "      <td>1998.000000</td>\n",
       "      <td>0.000000</td>\n",
       "      <td>0.000000</td>\n",
       "      <td>0.000000</td>\n",
       "      <td>0.000000</td>\n",
       "      <td>0.020000</td>\n",
       "    </tr>\n",
       "    <tr>\n",
       "      <th>20%</th>\n",
       "      <td>3321.400000</td>\n",
       "      <td>2002.000000</td>\n",
       "      <td>0.000000</td>\n",
       "      <td>0.000000</td>\n",
       "      <td>0.000000</td>\n",
       "      <td>0.000000</td>\n",
       "      <td>0.050000</td>\n",
       "    </tr>\n",
       "    <tr>\n",
       "      <th>30%</th>\n",
       "      <td>4981.100000</td>\n",
       "      <td>2004.000000</td>\n",
       "      <td>0.010000</td>\n",
       "      <td>0.000000</td>\n",
       "      <td>0.000000</td>\n",
       "      <td>0.000000</td>\n",
       "      <td>0.080000</td>\n",
       "    </tr>\n",
       "    <tr>\n",
       "      <th>40%</th>\n",
       "      <td>6640.800000</td>\n",
       "      <td>2006.000000</td>\n",
       "      <td>0.040000</td>\n",
       "      <td>0.010000</td>\n",
       "      <td>0.000000</td>\n",
       "      <td>0.010000</td>\n",
       "      <td>0.120000</td>\n",
       "    </tr>\n",
       "    <tr>\n",
       "      <th>50%</th>\n",
       "      <td>8300.500000</td>\n",
       "      <td>2007.000000</td>\n",
       "      <td>0.080000</td>\n",
       "      <td>0.020000</td>\n",
       "      <td>0.000000</td>\n",
       "      <td>0.010000</td>\n",
       "      <td>0.170000</td>\n",
       "    </tr>\n",
       "    <tr>\n",
       "      <th>60%</th>\n",
       "      <td>9960.200000</td>\n",
       "      <td>2009.000000</td>\n",
       "      <td>0.120000</td>\n",
       "      <td>0.040000</td>\n",
       "      <td>0.000000</td>\n",
       "      <td>0.020000</td>\n",
       "      <td>0.250000</td>\n",
       "    </tr>\n",
       "    <tr>\n",
       "      <th>70%</th>\n",
       "      <td>11619.900000</td>\n",
       "      <td>2010.000000</td>\n",
       "      <td>0.190000</td>\n",
       "      <td>0.080000</td>\n",
       "      <td>0.020000</td>\n",
       "      <td>0.030000</td>\n",
       "      <td>0.380000</td>\n",
       "    </tr>\n",
       "    <tr>\n",
       "      <th>80%</th>\n",
       "      <td>13279.600000</td>\n",
       "      <td>2011.000000</td>\n",
       "      <td>0.310000</td>\n",
       "      <td>0.160000</td>\n",
       "      <td>0.060000</td>\n",
       "      <td>0.050000</td>\n",
       "      <td>0.610000</td>\n",
       "    </tr>\n",
       "    <tr>\n",
       "      <th>90%</th>\n",
       "      <td>14940.300000</td>\n",
       "      <td>2013.000000</td>\n",
       "      <td>0.610000</td>\n",
       "      <td>0.350000</td>\n",
       "      <td>0.180000</td>\n",
       "      <td>0.110000</td>\n",
       "      <td>1.210000</td>\n",
       "    </tr>\n",
       "    <tr>\n",
       "      <th>95%</th>\n",
       "      <td>15770.150000</td>\n",
       "      <td>2015.000000</td>\n",
       "      <td>1.060000</td>\n",
       "      <td>0.630000</td>\n",
       "      <td>0.360000</td>\n",
       "      <td>0.200000</td>\n",
       "      <td>2.040000</td>\n",
       "    </tr>\n",
       "    <tr>\n",
       "      <th>99%</th>\n",
       "      <td>16434.030000</td>\n",
       "      <td>2016.000000</td>\n",
       "      <td>2.800000</td>\n",
       "      <td>1.940000</td>\n",
       "      <td>1.270000</td>\n",
       "      <td>0.650000</td>\n",
       "      <td>5.430600</td>\n",
       "    </tr>\n",
       "    <tr>\n",
       "      <th>max</th>\n",
       "      <td>16600.000000</td>\n",
       "      <td>2020.000000</td>\n",
       "      <td>41.490000</td>\n",
       "      <td>29.020000</td>\n",
       "      <td>10.220000</td>\n",
       "      <td>10.570000</td>\n",
       "      <td>82.740000</td>\n",
       "    </tr>\n",
       "  </tbody>\n",
       "</table>\n",
       "</div>"
      ],
      "text/plain": [
       "               Rank          Year      NA_Sales      EU_Sales      JP_Sales  \\\n",
       "count  16598.000000  16327.000000  16598.000000  16598.000000  16598.000000   \n",
       "mean    8300.605254   2006.406443      0.264667      0.146652      0.077782   \n",
       "std     4791.853933      5.828981      0.816683      0.505351      0.309291   \n",
       "min        1.000000   1980.000000      0.000000      0.000000      0.000000   \n",
       "10%     1661.700000   1998.000000      0.000000      0.000000      0.000000   \n",
       "20%     3321.400000   2002.000000      0.000000      0.000000      0.000000   \n",
       "30%     4981.100000   2004.000000      0.010000      0.000000      0.000000   \n",
       "40%     6640.800000   2006.000000      0.040000      0.010000      0.000000   \n",
       "50%     8300.500000   2007.000000      0.080000      0.020000      0.000000   \n",
       "60%     9960.200000   2009.000000      0.120000      0.040000      0.000000   \n",
       "70%    11619.900000   2010.000000      0.190000      0.080000      0.020000   \n",
       "80%    13279.600000   2011.000000      0.310000      0.160000      0.060000   \n",
       "90%    14940.300000   2013.000000      0.610000      0.350000      0.180000   \n",
       "95%    15770.150000   2015.000000      1.060000      0.630000      0.360000   \n",
       "99%    16434.030000   2016.000000      2.800000      1.940000      1.270000   \n",
       "max    16600.000000   2020.000000     41.490000     29.020000     10.220000   \n",
       "\n",
       "        Other_Sales  Global_Sales  \n",
       "count  16598.000000  16598.000000  \n",
       "mean       0.048063      0.537441  \n",
       "std        0.188588      1.555028  \n",
       "min        0.000000      0.010000  \n",
       "10%        0.000000      0.020000  \n",
       "20%        0.000000      0.050000  \n",
       "30%        0.000000      0.080000  \n",
       "40%        0.010000      0.120000  \n",
       "50%        0.010000      0.170000  \n",
       "60%        0.020000      0.250000  \n",
       "70%        0.030000      0.380000  \n",
       "80%        0.050000      0.610000  \n",
       "90%        0.110000      1.210000  \n",
       "95%        0.200000      2.040000  \n",
       "99%        0.650000      5.430600  \n",
       "max       10.570000     82.740000  "
      ]
     },
     "execution_count": 8,
     "metadata": {},
     "output_type": "execute_result"
    }
   ],
   "source": [
    "df.describe([.10,.20,.30,.40,.50,.60,.70,.80,.90,.95,.99])"
   ]
  },
  {
   "cell_type": "markdown",
   "id": "ecdb51be-db5a-418c-b723-c37e12488e0d",
   "metadata": {},
   "source": [
    "## Sum "
   ]
  },
  {
   "cell_type": "code",
   "execution_count": 9,
   "id": "e5530426-f729-4e61-94d5-c7fd896f8cb9",
   "metadata": {},
   "outputs": [
    {
     "data": {
      "text/html": [
       "<div>\n",
       "<style scoped>\n",
       "    .dataframe tbody tr th:only-of-type {\n",
       "        vertical-align: middle;\n",
       "    }\n",
       "\n",
       "    .dataframe tbody tr th {\n",
       "        vertical-align: top;\n",
       "    }\n",
       "\n",
       "    .dataframe thead th {\n",
       "        text-align: right;\n",
       "    }\n",
       "</style>\n",
       "<table border=\"1\" class=\"dataframe\">\n",
       "  <thead>\n",
       "    <tr style=\"text-align: right;\">\n",
       "      <th></th>\n",
       "      <th>Rank</th>\n",
       "      <th>Name</th>\n",
       "      <th>Platform</th>\n",
       "      <th>Year</th>\n",
       "      <th>Genre</th>\n",
       "      <th>Publisher</th>\n",
       "      <th>NA_Sales</th>\n",
       "      <th>EU_Sales</th>\n",
       "      <th>JP_Sales</th>\n",
       "      <th>Other_Sales</th>\n",
       "      <th>Global_Sales</th>\n",
       "    </tr>\n",
       "  </thead>\n",
       "  <tbody>\n",
       "    <tr>\n",
       "      <th>0</th>\n",
       "      <td>1</td>\n",
       "      <td>Wii Sports</td>\n",
       "      <td>Wii</td>\n",
       "      <td>2006.0</td>\n",
       "      <td>Sports</td>\n",
       "      <td>Nintendo</td>\n",
       "      <td>41.49</td>\n",
       "      <td>29.02</td>\n",
       "      <td>3.77</td>\n",
       "      <td>8.46</td>\n",
       "      <td>82.74</td>\n",
       "    </tr>\n",
       "    <tr>\n",
       "      <th>1</th>\n",
       "      <td>2</td>\n",
       "      <td>Super Mario Bros.</td>\n",
       "      <td>NES</td>\n",
       "      <td>1985.0</td>\n",
       "      <td>Platform</td>\n",
       "      <td>Nintendo</td>\n",
       "      <td>29.08</td>\n",
       "      <td>3.58</td>\n",
       "      <td>6.81</td>\n",
       "      <td>0.77</td>\n",
       "      <td>40.24</td>\n",
       "    </tr>\n",
       "    <tr>\n",
       "      <th>2</th>\n",
       "      <td>3</td>\n",
       "      <td>Mario Kart Wii</td>\n",
       "      <td>Wii</td>\n",
       "      <td>2008.0</td>\n",
       "      <td>Racing</td>\n",
       "      <td>Nintendo</td>\n",
       "      <td>15.85</td>\n",
       "      <td>12.88</td>\n",
       "      <td>3.79</td>\n",
       "      <td>3.31</td>\n",
       "      <td>35.82</td>\n",
       "    </tr>\n",
       "    <tr>\n",
       "      <th>3</th>\n",
       "      <td>4</td>\n",
       "      <td>Wii Sports Resort</td>\n",
       "      <td>Wii</td>\n",
       "      <td>2009.0</td>\n",
       "      <td>Sports</td>\n",
       "      <td>Nintendo</td>\n",
       "      <td>15.75</td>\n",
       "      <td>11.01</td>\n",
       "      <td>3.28</td>\n",
       "      <td>2.96</td>\n",
       "      <td>33.00</td>\n",
       "    </tr>\n",
       "    <tr>\n",
       "      <th>4</th>\n",
       "      <td>5</td>\n",
       "      <td>Pokemon Red/Pokemon Blue</td>\n",
       "      <td>GB</td>\n",
       "      <td>1996.0</td>\n",
       "      <td>Role-Playing</td>\n",
       "      <td>Nintendo</td>\n",
       "      <td>11.27</td>\n",
       "      <td>8.89</td>\n",
       "      <td>10.22</td>\n",
       "      <td>1.00</td>\n",
       "      <td>31.37</td>\n",
       "    </tr>\n",
       "  </tbody>\n",
       "</table>\n",
       "</div>"
      ],
      "text/plain": [
       "   Rank                      Name Platform    Year         Genre Publisher  \\\n",
       "0     1                Wii Sports      Wii  2006.0        Sports  Nintendo   \n",
       "1     2         Super Mario Bros.      NES  1985.0      Platform  Nintendo   \n",
       "2     3            Mario Kart Wii      Wii  2008.0        Racing  Nintendo   \n",
       "3     4         Wii Sports Resort      Wii  2009.0        Sports  Nintendo   \n",
       "4     5  Pokemon Red/Pokemon Blue       GB  1996.0  Role-Playing  Nintendo   \n",
       "\n",
       "   NA_Sales  EU_Sales  JP_Sales  Other_Sales  Global_Sales  \n",
       "0     41.49     29.02      3.77         8.46         82.74  \n",
       "1     29.08      3.58      6.81         0.77         40.24  \n",
       "2     15.85     12.88      3.79         3.31         35.82  \n",
       "3     15.75     11.01      3.28         2.96         33.00  \n",
       "4     11.27      8.89     10.22         1.00         31.37  "
      ]
     },
     "execution_count": 9,
     "metadata": {},
     "output_type": "execute_result"
    }
   ],
   "source": [
    "df.head()"
   ]
  },
  {
   "cell_type": "code",
   "execution_count": 12,
   "id": "16c10461-77fe-4e35-916b-53ce78f9841c",
   "metadata": {},
   "outputs": [
    {
     "data": {
      "text/plain": [
       "Rank            1.377734e+08\n",
       "Year            3.275860e+07\n",
       "NA_Sales        4.392950e+03\n",
       "EU_Sales        2.434130e+03\n",
       "JP_Sales        1.291020e+03\n",
       "Other_Sales     7.977500e+02\n",
       "Global_Sales    8.920440e+03\n",
       "dtype: float64"
      ]
     },
     "execution_count": 12,
     "metadata": {},
     "output_type": "execute_result"
    }
   ],
   "source": [
    "df.sum(numeric_only=True, axis='index')"
   ]
  },
  {
   "cell_type": "code",
   "execution_count": 11,
   "id": "f95705e7-8620-4d08-bb66-e798b57f2299",
   "metadata": {},
   "outputs": [
    {
     "data": {
      "text/plain": [
       "0         2172.48\n",
       "1         2067.48\n",
       "2         2082.65\n",
       "3         2079.00\n",
       "4         2063.75\n",
       "           ...   \n",
       "16593    18598.02\n",
       "16594    18600.02\n",
       "16595    18606.01\n",
       "16596    18609.02\n",
       "16597    18603.02\n",
       "Length: 16598, dtype: float64"
      ]
     },
     "execution_count": 11,
     "metadata": {},
     "output_type": "execute_result"
    }
   ],
   "source": [
    "df.sum(numeric_only=True, axis='columns')"
   ]
  },
  {
   "cell_type": "markdown",
   "id": "05625b58-aba2-449c-b9b2-bfe4aec1ca8f",
   "metadata": {},
   "source": [
    "## Mean "
   ]
  },
  {
   "cell_type": "code",
   "execution_count": 13,
   "id": "1d4b4455-c7db-4093-9eae-f5200a9e3ebc",
   "metadata": {},
   "outputs": [
    {
     "data": {
      "text/plain": [
       "Rank            8300.605254\n",
       "Year            2006.406443\n",
       "NA_Sales           0.264667\n",
       "EU_Sales           0.146652\n",
       "JP_Sales           0.077782\n",
       "Other_Sales        0.048063\n",
       "Global_Sales       0.537441\n",
       "dtype: float64"
      ]
     },
     "execution_count": 13,
     "metadata": {},
     "output_type": "execute_result"
    }
   ],
   "source": [
    "df.mean(numeric_only=True)"
   ]
  },
  {
   "cell_type": "code",
   "execution_count": 14,
   "id": "90c6c680-9dd3-4bbf-8309-5da3ec4c8df5",
   "metadata": {},
   "outputs": [
    {
     "data": {
      "text/plain": [
       "0         310.354286\n",
       "1         295.354286\n",
       "2         297.521429\n",
       "3         297.000000\n",
       "4         294.821429\n",
       "            ...     \n",
       "16593    2656.860000\n",
       "16594    2657.145714\n",
       "16595    2658.001429\n",
       "16596    2658.431429\n",
       "16597    2657.574286\n",
       "Length: 16598, dtype: float64"
      ]
     },
     "execution_count": 14,
     "metadata": {},
     "output_type": "execute_result"
    }
   ],
   "source": [
    "df.mean(numeric_only=True, axis='columns')"
   ]
  },
  {
   "cell_type": "markdown",
   "id": "c220c1e1-cbd4-4478-91c2-1cee07cdd2c9",
   "metadata": {},
   "source": [
    "## Standard deviation"
   ]
  },
  {
   "cell_type": "code",
   "execution_count": 15,
   "id": "15f16d59-257f-41f1-84a0-50c641719373",
   "metadata": {},
   "outputs": [
    {
     "data": {
      "text/plain": [
       "Rank            4791.853933\n",
       "Year               5.828981\n",
       "NA_Sales           0.816683\n",
       "EU_Sales           0.505351\n",
       "JP_Sales           0.309291\n",
       "Other_Sales        0.188588\n",
       "Global_Sales       1.555028\n",
       "dtype: float64"
      ]
     },
     "execution_count": 15,
     "metadata": {},
     "output_type": "execute_result"
    }
   ],
   "source": [
    "df.std(numeric_only=True, axis='index')"
   ]
  },
  {
   "cell_type": "code",
   "execution_count": 16,
   "id": "da863586-1cb8-4165-a939-d1d6360dcb12",
   "metadata": {},
   "outputs": [
    {
     "data": {
      "text/plain": [
       "0         748.252831\n",
       "1         745.219723\n",
       "2         754.339171\n",
       "3         754.995784\n",
       "4         750.210953\n",
       "            ...     \n",
       "16593    6191.699882\n",
       "16594    6192.057474\n",
       "16595    6192.345636\n",
       "16596    6192.685166\n",
       "16597    6193.183099\n",
       "Length: 16598, dtype: float64"
      ]
     },
     "execution_count": 16,
     "metadata": {},
     "output_type": "execute_result"
    }
   ],
   "source": [
    "df.std(numeric_only=True, axis='columns')"
   ]
  },
  {
   "cell_type": "markdown",
   "id": "03d137a1-2617-40be-be7c-6e7e07fe5a4f",
   "metadata": {},
   "source": [
    "## Variance "
   ]
  },
  {
   "cell_type": "code",
   "execution_count": 17,
   "id": "9512e028-c1b1-4a21-af7f-e5f6ac9b5e74",
   "metadata": {},
   "outputs": [
    {
     "data": {
      "text/plain": [
       "Rank            2.296186e+07\n",
       "Year            3.397702e+01\n",
       "NA_Sales        6.669712e-01\n",
       "EU_Sales        2.553799e-01\n",
       "JP_Sales        9.566070e-02\n",
       "Other_Sales     3.556559e-02\n",
       "Global_Sales    2.418112e+00\n",
       "dtype: float64"
      ]
     },
     "execution_count": 17,
     "metadata": {},
     "output_type": "execute_result"
    }
   ],
   "source": [
    "df.var(numeric_only=True, axis='index')"
   ]
  },
  {
   "cell_type": "code",
   "execution_count": 18,
   "id": "5d4e3c1f-cbde-4a14-90bd-77ec3225b10d",
   "metadata": {},
   "outputs": [
    {
     "data": {
      "text/plain": [
       "0        5.598823e+05\n",
       "1        5.553524e+05\n",
       "2        5.690276e+05\n",
       "3        5.700186e+05\n",
       "4        5.628165e+05\n",
       "             ...     \n",
       "16593    3.833715e+07\n",
       "16594    3.834158e+07\n",
       "16595    3.834514e+07\n",
       "16596    3.834935e+07\n",
       "16597    3.835552e+07\n",
       "Length: 16598, dtype: float64"
      ]
     },
     "execution_count": 18,
     "metadata": {},
     "output_type": "execute_result"
    }
   ],
   "source": [
    "df.var(numeric_only=True, axis='columns')"
   ]
  },
  {
   "cell_type": "markdown",
   "id": "36ca4a74-e068-4294-84d1-d7c920ffc9ef",
   "metadata": {},
   "source": [
    "## Median"
   ]
  },
  {
   "cell_type": "code",
   "execution_count": 19,
   "id": "89a26864-9a98-4095-9d03-f9fc2f00f61e",
   "metadata": {},
   "outputs": [
    {
     "data": {
      "text/plain": [
       "Rank            8300.50\n",
       "Year            2007.00\n",
       "NA_Sales           0.08\n",
       "EU_Sales           0.02\n",
       "JP_Sales           0.00\n",
       "Other_Sales        0.01\n",
       "Global_Sales       0.17\n",
       "dtype: float64"
      ]
     },
     "execution_count": 19,
     "metadata": {},
     "output_type": "execute_result"
    }
   ],
   "source": [
    "df.median(numeric_only=True, axis='index')"
   ]
  },
  {
   "cell_type": "code",
   "execution_count": 20,
   "id": "c0c7cea2-841a-4e50-97a5-29e9f5041f43",
   "metadata": {},
   "outputs": [
    {
     "data": {
      "text/plain": [
       "0        29.02\n",
       "1         6.81\n",
       "2        12.88\n",
       "3        11.01\n",
       "4        10.22\n",
       "         ...  \n",
       "16593     0.01\n",
       "16594     0.01\n",
       "16595     0.00\n",
       "16596     0.01\n",
       "16597     0.01\n",
       "Length: 16598, dtype: float64"
      ]
     },
     "execution_count": 20,
     "metadata": {},
     "output_type": "execute_result"
    }
   ],
   "source": [
    "df.median(numeric_only=True, axis='columns')"
   ]
  },
  {
   "cell_type": "markdown",
   "id": "b3ecddaa-1b09-40bb-b9a9-5b5122c484e8",
   "metadata": {},
   "source": [
    "## Mode"
   ]
  },
  {
   "cell_type": "code",
   "execution_count": 21,
   "id": "87739608-976f-4f22-84e0-ccbfd7eedabc",
   "metadata": {},
   "outputs": [
    {
     "data": {
      "text/plain": [
       "Index(['Rank', 'Name', 'Platform', 'Year', 'Genre', 'Publisher', 'NA_Sales',\n",
       "       'EU_Sales', 'JP_Sales', 'Other_Sales', 'Global_Sales'],\n",
       "      dtype='object')"
      ]
     },
     "execution_count": 21,
     "metadata": {},
     "output_type": "execute_result"
    }
   ],
   "source": [
    "df.columns"
   ]
  },
  {
   "cell_type": "code",
   "execution_count": 22,
   "id": "55baffc9-75f5-4491-af3d-1d98f10bcdb0",
   "metadata": {},
   "outputs": [
    {
     "data": {
      "text/plain": [
       "0    DS\n",
       "Name: Platform, dtype: object"
      ]
     },
     "execution_count": 22,
     "metadata": {},
     "output_type": "execute_result"
    }
   ],
   "source": [
    "df.Platform.mode()"
   ]
  },
  {
   "cell_type": "markdown",
   "id": "c2bd559d-ad7c-4862-818d-f94e2a52bda1",
   "metadata": {},
   "source": [
    "## Minimum"
   ]
  },
  {
   "cell_type": "code",
   "execution_count": 23,
   "id": "766feefb-2c58-4ce4-8464-1e796def456c",
   "metadata": {},
   "outputs": [
    {
     "data": {
      "text/plain": [
       "Rank               1.00\n",
       "Year            1980.00\n",
       "NA_Sales           0.00\n",
       "EU_Sales           0.00\n",
       "JP_Sales           0.00\n",
       "Other_Sales        0.00\n",
       "Global_Sales       0.01\n",
       "dtype: float64"
      ]
     },
     "execution_count": 23,
     "metadata": {},
     "output_type": "execute_result"
    }
   ],
   "source": [
    "df.min(numeric_only=True)"
   ]
  },
  {
   "cell_type": "markdown",
   "id": "1fb1f54b-6fae-4f6f-b8fb-afaee9c67c07",
   "metadata": {},
   "source": [
    "## Maximum"
   ]
  },
  {
   "cell_type": "code",
   "execution_count": 24,
   "id": "548fb8f7-daa2-4ac0-bd24-6e316d4c4ba6",
   "metadata": {},
   "outputs": [
    {
     "data": {
      "text/plain": [
       "Rank            16600.00\n",
       "Year             2020.00\n",
       "NA_Sales           41.49\n",
       "EU_Sales           29.02\n",
       "JP_Sales           10.22\n",
       "Other_Sales        10.57\n",
       "Global_Sales       82.74\n",
       "dtype: float64"
      ]
     },
     "execution_count": 24,
     "metadata": {},
     "output_type": "execute_result"
    }
   ],
   "source": [
    "df.max(numeric_only=True)"
   ]
  },
  {
   "cell_type": "markdown",
   "id": "366e2bf8-1f23-4e76-9f6c-2fc40f77be72",
   "metadata": {},
   "source": [
    "## Count"
   ]
  },
  {
   "cell_type": "code",
   "execution_count": 25,
   "id": "284d04c9-05f0-422c-9314-d52282af0f00",
   "metadata": {},
   "outputs": [
    {
     "data": {
      "text/plain": [
       "Rank            16598\n",
       "Year            16327\n",
       "NA_Sales        16598\n",
       "EU_Sales        16598\n",
       "JP_Sales        16598\n",
       "Other_Sales     16598\n",
       "Global_Sales    16598\n",
       "dtype: int64"
      ]
     },
     "execution_count": 25,
     "metadata": {},
     "output_type": "execute_result"
    }
   ],
   "source": [
    "df.count(numeric_only=True)"
   ]
  },
  {
   "cell_type": "markdown",
   "id": "290deffc-5e9e-4204-a73c-4b2a784b2d7b",
   "metadata": {},
   "source": [
    "## Correlation"
   ]
  },
  {
   "cell_type": "code",
   "execution_count": 26,
   "id": "fb8dab8f-ecf8-4e6a-a0b2-5e25a05112c1",
   "metadata": {},
   "outputs": [
    {
     "data": {
      "text/html": [
       "<div>\n",
       "<style scoped>\n",
       "    .dataframe tbody tr th:only-of-type {\n",
       "        vertical-align: middle;\n",
       "    }\n",
       "\n",
       "    .dataframe tbody tr th {\n",
       "        vertical-align: top;\n",
       "    }\n",
       "\n",
       "    .dataframe thead th {\n",
       "        text-align: right;\n",
       "    }\n",
       "</style>\n",
       "<table border=\"1\" class=\"dataframe\">\n",
       "  <thead>\n",
       "    <tr style=\"text-align: right;\">\n",
       "      <th></th>\n",
       "      <th>Rank</th>\n",
       "      <th>Year</th>\n",
       "      <th>NA_Sales</th>\n",
       "      <th>EU_Sales</th>\n",
       "      <th>JP_Sales</th>\n",
       "      <th>Other_Sales</th>\n",
       "      <th>Global_Sales</th>\n",
       "    </tr>\n",
       "  </thead>\n",
       "  <tbody>\n",
       "    <tr>\n",
       "      <th>Rank</th>\n",
       "      <td>1.000000</td>\n",
       "      <td>0.178814</td>\n",
       "      <td>-0.401362</td>\n",
       "      <td>-0.379123</td>\n",
       "      <td>-0.267785</td>\n",
       "      <td>-0.332986</td>\n",
       "      <td>-0.427407</td>\n",
       "    </tr>\n",
       "    <tr>\n",
       "      <th>Year</th>\n",
       "      <td>0.178814</td>\n",
       "      <td>1.000000</td>\n",
       "      <td>-0.091402</td>\n",
       "      <td>0.006014</td>\n",
       "      <td>-0.169316</td>\n",
       "      <td>0.041058</td>\n",
       "      <td>-0.074735</td>\n",
       "    </tr>\n",
       "    <tr>\n",
       "      <th>NA_Sales</th>\n",
       "      <td>-0.401362</td>\n",
       "      <td>-0.091402</td>\n",
       "      <td>1.000000</td>\n",
       "      <td>0.767727</td>\n",
       "      <td>0.449787</td>\n",
       "      <td>0.634737</td>\n",
       "      <td>0.941047</td>\n",
       "    </tr>\n",
       "    <tr>\n",
       "      <th>EU_Sales</th>\n",
       "      <td>-0.379123</td>\n",
       "      <td>0.006014</td>\n",
       "      <td>0.767727</td>\n",
       "      <td>1.000000</td>\n",
       "      <td>0.435584</td>\n",
       "      <td>0.726385</td>\n",
       "      <td>0.902836</td>\n",
       "    </tr>\n",
       "    <tr>\n",
       "      <th>JP_Sales</th>\n",
       "      <td>-0.267785</td>\n",
       "      <td>-0.169316</td>\n",
       "      <td>0.449787</td>\n",
       "      <td>0.435584</td>\n",
       "      <td>1.000000</td>\n",
       "      <td>0.290186</td>\n",
       "      <td>0.611816</td>\n",
       "    </tr>\n",
       "    <tr>\n",
       "      <th>Other_Sales</th>\n",
       "      <td>-0.332986</td>\n",
       "      <td>0.041058</td>\n",
       "      <td>0.634737</td>\n",
       "      <td>0.726385</td>\n",
       "      <td>0.290186</td>\n",
       "      <td>1.000000</td>\n",
       "      <td>0.748331</td>\n",
       "    </tr>\n",
       "    <tr>\n",
       "      <th>Global_Sales</th>\n",
       "      <td>-0.427407</td>\n",
       "      <td>-0.074735</td>\n",
       "      <td>0.941047</td>\n",
       "      <td>0.902836</td>\n",
       "      <td>0.611816</td>\n",
       "      <td>0.748331</td>\n",
       "      <td>1.000000</td>\n",
       "    </tr>\n",
       "  </tbody>\n",
       "</table>\n",
       "</div>"
      ],
      "text/plain": [
       "                  Rank      Year  NA_Sales  EU_Sales  JP_Sales  Other_Sales  \\\n",
       "Rank          1.000000  0.178814 -0.401362 -0.379123 -0.267785    -0.332986   \n",
       "Year          0.178814  1.000000 -0.091402  0.006014 -0.169316     0.041058   \n",
       "NA_Sales     -0.401362 -0.091402  1.000000  0.767727  0.449787     0.634737   \n",
       "EU_Sales     -0.379123  0.006014  0.767727  1.000000  0.435584     0.726385   \n",
       "JP_Sales     -0.267785 -0.169316  0.449787  0.435584  1.000000     0.290186   \n",
       "Other_Sales  -0.332986  0.041058  0.634737  0.726385  0.290186     1.000000   \n",
       "Global_Sales -0.427407 -0.074735  0.941047  0.902836  0.611816     0.748331   \n",
       "\n",
       "              Global_Sales  \n",
       "Rank             -0.427407  \n",
       "Year             -0.074735  \n",
       "NA_Sales          0.941047  \n",
       "EU_Sales          0.902836  \n",
       "JP_Sales          0.611816  \n",
       "Other_Sales       0.748331  \n",
       "Global_Sales      1.000000  "
      ]
     },
     "execution_count": 26,
     "metadata": {},
     "output_type": "execute_result"
    }
   ],
   "source": [
    "df.corr(numeric_only=True)"
   ]
  },
  {
   "cell_type": "markdown",
   "id": "36c66222-2a00-42e3-9d9b-5d3bbcf26675",
   "metadata": {},
   "source": [
    "## Covariance"
   ]
  },
  {
   "cell_type": "code",
   "execution_count": 27,
   "id": "c871937c-a23d-4d19-afba-e1e7c3b99e21",
   "metadata": {},
   "outputs": [
    {
     "data": {
      "text/html": [
       "<div>\n",
       "<style scoped>\n",
       "    .dataframe tbody tr th:only-of-type {\n",
       "        vertical-align: middle;\n",
       "    }\n",
       "\n",
       "    .dataframe tbody tr th {\n",
       "        vertical-align: top;\n",
       "    }\n",
       "\n",
       "    .dataframe thead th {\n",
       "        text-align: right;\n",
       "    }\n",
       "</style>\n",
       "<table border=\"1\" class=\"dataframe\">\n",
       "  <thead>\n",
       "    <tr style=\"text-align: right;\">\n",
       "      <th></th>\n",
       "      <th>Rank</th>\n",
       "      <th>Year</th>\n",
       "      <th>NA_Sales</th>\n",
       "      <th>EU_Sales</th>\n",
       "      <th>JP_Sales</th>\n",
       "      <th>Other_Sales</th>\n",
       "      <th>Global_Sales</th>\n",
       "    </tr>\n",
       "  </thead>\n",
       "  <tbody>\n",
       "    <tr>\n",
       "      <th>Rank</th>\n",
       "      <td>2.296186e+07</td>\n",
       "      <td>4995.406080</td>\n",
       "      <td>-1570.701366</td>\n",
       "      <td>-918.073748</td>\n",
       "      <td>-396.877102</td>\n",
       "      <td>-300.915863</td>\n",
       "      <td>-3184.806119</td>\n",
       "    </tr>\n",
       "    <tr>\n",
       "      <th>Year</th>\n",
       "      <td>4.995406e+03</td>\n",
       "      <td>33.977021</td>\n",
       "      <td>-0.437728</td>\n",
       "      <td>0.017835</td>\n",
       "      <td>-0.307488</td>\n",
       "      <td>0.045444</td>\n",
       "      <td>-0.682076</td>\n",
       "    </tr>\n",
       "    <tr>\n",
       "      <th>NA_Sales</th>\n",
       "      <td>-1.570701e+03</td>\n",
       "      <td>-0.437728</td>\n",
       "      <td>0.666971</td>\n",
       "      <td>0.316850</td>\n",
       "      <td>0.113613</td>\n",
       "      <td>0.097760</td>\n",
       "      <td>1.195097</td>\n",
       "    </tr>\n",
       "    <tr>\n",
       "      <th>EU_Sales</th>\n",
       "      <td>-9.180737e+02</td>\n",
       "      <td>0.017835</td>\n",
       "      <td>0.316850</td>\n",
       "      <td>0.255380</td>\n",
       "      <td>0.068082</td>\n",
       "      <td>0.069227</td>\n",
       "      <td>0.709480</td>\n",
       "    </tr>\n",
       "    <tr>\n",
       "      <th>JP_Sales</th>\n",
       "      <td>-3.968771e+02</td>\n",
       "      <td>-0.307488</td>\n",
       "      <td>0.113613</td>\n",
       "      <td>0.068082</td>\n",
       "      <td>0.095661</td>\n",
       "      <td>0.016926</td>\n",
       "      <td>0.294256</td>\n",
       "    </tr>\n",
       "    <tr>\n",
       "      <th>Other_Sales</th>\n",
       "      <td>-3.009159e+02</td>\n",
       "      <td>0.045444</td>\n",
       "      <td>0.097760</td>\n",
       "      <td>0.069227</td>\n",
       "      <td>0.016926</td>\n",
       "      <td>0.035566</td>\n",
       "      <td>0.219456</td>\n",
       "    </tr>\n",
       "    <tr>\n",
       "      <th>Global_Sales</th>\n",
       "      <td>-3.184806e+03</td>\n",
       "      <td>-0.682076</td>\n",
       "      <td>1.195097</td>\n",
       "      <td>0.709480</td>\n",
       "      <td>0.294256</td>\n",
       "      <td>0.219456</td>\n",
       "      <td>2.418112</td>\n",
       "    </tr>\n",
       "  </tbody>\n",
       "</table>\n",
       "</div>"
      ],
      "text/plain": [
       "                      Rank         Year     NA_Sales    EU_Sales    JP_Sales  \\\n",
       "Rank          2.296186e+07  4995.406080 -1570.701366 -918.073748 -396.877102   \n",
       "Year          4.995406e+03    33.977021    -0.437728    0.017835   -0.307488   \n",
       "NA_Sales     -1.570701e+03    -0.437728     0.666971    0.316850    0.113613   \n",
       "EU_Sales     -9.180737e+02     0.017835     0.316850    0.255380    0.068082   \n",
       "JP_Sales     -3.968771e+02    -0.307488     0.113613    0.068082    0.095661   \n",
       "Other_Sales  -3.009159e+02     0.045444     0.097760    0.069227    0.016926   \n",
       "Global_Sales -3.184806e+03    -0.682076     1.195097    0.709480    0.294256   \n",
       "\n",
       "              Other_Sales  Global_Sales  \n",
       "Rank          -300.915863  -3184.806119  \n",
       "Year             0.045444     -0.682076  \n",
       "NA_Sales         0.097760      1.195097  \n",
       "EU_Sales         0.069227      0.709480  \n",
       "JP_Sales         0.016926      0.294256  \n",
       "Other_Sales      0.035566      0.219456  \n",
       "Global_Sales     0.219456      2.418112  "
      ]
     },
     "execution_count": 27,
     "metadata": {},
     "output_type": "execute_result"
    }
   ],
   "source": [
    "df.cov(numeric_only=True)"
   ]
  },
  {
   "cell_type": "code",
   "execution_count": null,
   "id": "67104048-b16d-4918-9769-7407c7cc7ca4",
   "metadata": {},
   "outputs": [],
   "source": []
  }
 ],
 "metadata": {
  "kernelspec": {
   "display_name": "Python 3",
   "language": "python",
   "name": "python3"
  },
  "language_info": {
   "codemirror_mode": {
    "name": "ipython",
    "version": 3
   },
   "file_extension": ".py",
   "mimetype": "text/x-python",
   "name": "python",
   "nbconvert_exporter": "python",
   "pygments_lexer": "ipython3",
   "version": "3.8.8"
  }
 },
 "nbformat": 4,
 "nbformat_minor": 5
}
