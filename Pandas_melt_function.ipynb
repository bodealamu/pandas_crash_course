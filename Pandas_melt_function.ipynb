{
 "cells": [
  {
   "cell_type": "code",
   "execution_count": 15,
   "id": "7d75a5fc-a042-450d-b5ff-4e073e496ee7",
   "metadata": {},
   "outputs": [],
   "source": [
    "import pandas as pd"
   ]
  },
  {
   "cell_type": "code",
   "execution_count": 16,
   "id": "a234c97d-1e92-4472-8116-bc0bb2f4a9d3",
   "metadata": {},
   "outputs": [],
   "source": [
    "df = pd.read_csv('Metro_zhvi_bdrmcnt_2_uc_sfrcondo_tier_0.33_0.67_sm_sa_month.csv')"
   ]
  },
  {
   "cell_type": "code",
   "execution_count": 17,
   "id": "856238ee-6dba-455d-b2ea-d85e3d4b6a2d",
   "metadata": {},
   "outputs": [
    {
     "name": "stdout",
     "output_type": "stream",
     "text": [
      "<class 'pandas.core.frame.DataFrame'>\n",
      "RangeIndex: 851 entries, 0 to 850\n",
      "Columns: 302 entries, RegionID to 2024-09-30\n",
      "dtypes: float64(297), int64(2), object(3)\n",
      "memory usage: 2.0+ MB\n"
     ]
    }
   ],
   "source": [
    "df.info()"
   ]
  },
  {
   "cell_type": "code",
   "execution_count": 18,
   "id": "edd33a3a-0f63-464c-ad82-73f0b505147d",
   "metadata": {},
   "outputs": [
    {
     "data": {
      "text/plain": [
       "(851, 302)"
      ]
     },
     "execution_count": 18,
     "metadata": {},
     "output_type": "execute_result"
    }
   ],
   "source": [
    "df.shape"
   ]
  },
  {
   "cell_type": "code",
   "execution_count": 19,
   "id": "e6acfec7-7f23-43d5-8bbf-2c8c32b27d21",
   "metadata": {},
   "outputs": [
    {
     "data": {
      "text/html": [
       "<div>\n",
       "<style scoped>\n",
       "    .dataframe tbody tr th:only-of-type {\n",
       "        vertical-align: middle;\n",
       "    }\n",
       "\n",
       "    .dataframe tbody tr th {\n",
       "        vertical-align: top;\n",
       "    }\n",
       "\n",
       "    .dataframe thead th {\n",
       "        text-align: right;\n",
       "    }\n",
       "</style>\n",
       "<table border=\"1\" class=\"dataframe\">\n",
       "  <thead>\n",
       "    <tr style=\"text-align: right;\">\n",
       "      <th></th>\n",
       "      <th>RegionID</th>\n",
       "      <th>SizeRank</th>\n",
       "      <th>RegionName</th>\n",
       "      <th>RegionType</th>\n",
       "      <th>StateName</th>\n",
       "      <th>2000-01-31</th>\n",
       "      <th>2000-02-29</th>\n",
       "      <th>2000-03-31</th>\n",
       "      <th>2000-04-30</th>\n",
       "      <th>2000-05-31</th>\n",
       "      <th>...</th>\n",
       "      <th>2023-12-31</th>\n",
       "      <th>2024-01-31</th>\n",
       "      <th>2024-02-29</th>\n",
       "      <th>2024-03-31</th>\n",
       "      <th>2024-04-30</th>\n",
       "      <th>2024-05-31</th>\n",
       "      <th>2024-06-30</th>\n",
       "      <th>2024-07-31</th>\n",
       "      <th>2024-08-31</th>\n",
       "      <th>2024-09-30</th>\n",
       "    </tr>\n",
       "  </thead>\n",
       "  <tbody>\n",
       "    <tr>\n",
       "      <th>540</th>\n",
       "      <td>394446</td>\n",
       "      <td>562</td>\n",
       "      <td>Cedar City, UT</td>\n",
       "      <td>msa</td>\n",
       "      <td>UT</td>\n",
       "      <td>NaN</td>\n",
       "      <td>NaN</td>\n",
       "      <td>NaN</td>\n",
       "      <td>NaN</td>\n",
       "      <td>NaN</td>\n",
       "      <td>...</td>\n",
       "      <td>307284.74767</td>\n",
       "      <td>306303.57032</td>\n",
       "      <td>305100.759414</td>\n",
       "      <td>304449.395639</td>\n",
       "      <td>304151.410616</td>\n",
       "      <td>302497.180406</td>\n",
       "      <td>299958.401606</td>\n",
       "      <td>296581.477415</td>\n",
       "      <td>294034.705668</td>\n",
       "      <td>292843.11988</td>\n",
       "    </tr>\n",
       "  </tbody>\n",
       "</table>\n",
       "<p>1 rows × 302 columns</p>\n",
       "</div>"
      ],
      "text/plain": [
       "     RegionID  SizeRank      RegionName RegionType StateName  2000-01-31  \\\n",
       "540    394446       562  Cedar City, UT        msa        UT         NaN   \n",
       "\n",
       "     2000-02-29  2000-03-31  2000-04-30  2000-05-31  ...    2023-12-31  \\\n",
       "540         NaN         NaN         NaN         NaN  ...  307284.74767   \n",
       "\n",
       "       2024-01-31     2024-02-29     2024-03-31     2024-04-30     2024-05-31  \\\n",
       "540  306303.57032  305100.759414  304449.395639  304151.410616  302497.180406   \n",
       "\n",
       "        2024-06-30     2024-07-31     2024-08-31    2024-09-30  \n",
       "540  299958.401606  296581.477415  294034.705668  292843.11988  \n",
       "\n",
       "[1 rows x 302 columns]"
      ]
     },
     "execution_count": 19,
     "metadata": {},
     "output_type": "execute_result"
    }
   ],
   "source": [
    "df.sample()"
   ]
  },
  {
   "cell_type": "code",
   "execution_count": 8,
   "id": "5ebfce86-bc0a-4c37-8a20-cd37cb2fc3c7",
   "metadata": {},
   "outputs": [],
   "source": [
    "# list(df.columns)"
   ]
  },
  {
   "cell_type": "code",
   "execution_count": 20,
   "id": "56a5d0f0-64d3-4f67-b1d1-80ecefe5db8a",
   "metadata": {},
   "outputs": [
    {
     "data": {
      "text/plain": [
       "Index(['RegionID', 'SizeRank', 'RegionName', 'RegionType', 'StateName',\n",
       "       '2000-01-31', '2000-02-29', '2000-03-31', '2000-04-30', '2000-05-31',\n",
       "       ...\n",
       "       '2023-12-31', '2024-01-31', '2024-02-29', '2024-03-31', '2024-04-30',\n",
       "       '2024-05-31', '2024-06-30', '2024-07-31', '2024-08-31', '2024-09-30'],\n",
       "      dtype='object', length=302)"
      ]
     },
     "execution_count": 20,
     "metadata": {},
     "output_type": "execute_result"
    }
   ],
   "source": [
    "df.columns"
   ]
  },
  {
   "cell_type": "code",
   "execution_count": 21,
   "id": "4b5f0fea-a81d-4b07-96c4-7ea9a954c9a4",
   "metadata": {},
   "outputs": [],
   "source": [
    "time_cols = ['2000-01-31','2000-02-29','2000-03-31','2000-04-30',\n",
    " '2000-05-31','2000-06-30','2000-07-31','2000-08-31','2000-09-30',\n",
    " '2000-10-31','2000-11-30','2000-12-31','2001-01-31','2001-02-28',\n",
    " '2001-03-31','2001-04-30','2001-05-31','2001-06-30','2001-07-31',\n",
    " '2001-08-31','2001-09-30','2001-10-31','2001-11-30','2001-12-31',\n",
    " '2002-01-31', '2002-02-28', '2002-03-31', '2002-04-30','2002-05-31',\n",
    " '2002-06-30', '2002-07-31', '2002-08-31', '2002-09-30', '2002-10-31',\n",
    " '2002-11-30', '2002-12-31', '2003-01-31', '2003-02-28', '2003-03-31',\n",
    " '2003-04-30', '2003-05-31', '2003-06-30', '2003-07-31', '2003-08-31',\n",
    " '2003-09-30', '2003-10-31', '2003-11-30', '2003-12-31', '2004-01-31', '2004-02-29',\n",
    " '2004-03-31','2004-04-30', '2004-05-31', '2004-06-30', '2004-07-31', '2004-08-31','2004-09-30',\n",
    " '2004-10-31', '2004-11-30', '2004-12-31','2005-01-31', '2005-02-28', '2005-03-31', '2005-04-30',\n",
    " '2005-05-31', '2005-06-30', '2005-07-31', '2005-08-31', '2005-09-30', '2005-10-31', '2005-11-30',\n",
    " '2005-12-31', '2006-01-31', '2006-02-28', '2006-03-31', '2006-04-30','2006-05-31',\n",
    " '2006-06-30', '2006-07-31', '2006-08-31', '2006-09-30', '2006-10-31', '2006-11-30', '2006-12-31',\n",
    " '2007-01-31', '2007-02-28', '2007-03-31', '2007-04-30', '2007-05-31', '2007-06-30', '2007-07-31',\n",
    " '2007-08-31', '2007-09-30', '2007-10-31', '2007-11-30', '2007-12-31', '2008-01-31', '2008-02-29',\n",
    " '2008-03-31','2008-04-30','2008-05-31','2008-06-30','2008-07-31','2008-08-31','2008-09-30',\n",
    " '2008-10-31','2008-11-30', '2008-12-31', '2009-01-31', '2009-02-28', '2009-03-31', '2009-04-30',\n",
    " '2009-05-31','2009-06-30','2009-07-31','2009-08-31','2009-09-30','2009-10-31','2009-11-30',\n",
    " '2009-12-31','2010-01-31','2010-02-28','2010-03-31','2010-04-30','2010-05-31',\n",
    " '2010-06-30','2010-07-31','2010-08-31', '2010-09-30', '2010-10-31', '2010-11-30','2010-12-31','2011-01-31',\n",
    " '2011-02-28','2011-03-31','2011-04-30','2011-05-31','2011-06-30','2011-07-31','2011-08-31','2011-09-30',\n",
    " '2011-10-31','2011-11-30','2011-12-31','2012-01-31','2012-02-29','2012-03-31','2012-04-30',\n",
    " '2012-05-31','2012-06-30','2012-07-31','2012-08-31','2012-09-30','2012-10-31',\n",
    " '2012-11-30', '2012-12-31', '2013-01-31', '2013-02-28', '2013-03-31', '2013-04-30', '2013-05-31','2013-06-30','2013-07-31',\n",
    " '2013-08-31', '2013-09-30', '2013-10-31', '2013-11-30','2013-12-31', '2014-01-31', '2014-02-28',\n",
    " '2014-03-31', '2014-04-30', '2014-05-31','2014-06-30','2014-07-31','2014-08-31',\n",
    " '2014-09-30', '2014-10-31','2014-11-30','2014-12-31', '2015-01-31', '2015-02-28',\n",
    " '2015-03-31','2015-04-30', '2015-05-31', '2015-06-30','2015-07-31','2015-08-31', '2015-09-30',\n",
    " '2015-10-31', '2015-11-30', '2015-12-31', '2016-01-31', '2016-02-29', '2016-03-31',\n",
    " '2016-04-30','2016-05-31','2016-06-30',\n",
    " '2016-07-31', '2016-08-31','2016-09-30', '2016-10-31', '2016-11-30', '2016-12-31',\n",
    " '2017-01-31', '2017-02-28', '2017-03-31', '2017-04-30', '2017-05-31', '2017-06-30', '2017-07-31',\n",
    " '2017-08-31', '2017-09-30', '2017-10-31', '2017-11-30', '2017-12-31','2018-01-31','2018-02-28',\n",
    " '2018-03-31', '2018-04-30', '2018-05-31', '2018-06-30', '2018-07-31', '2018-08-31',\n",
    " '2018-09-30', '2018-10-31', '2018-11-30', '2018-12-31','2019-01-31','2019-02-28','2019-03-31',\n",
    " '2019-04-30', '2019-05-31', '2019-06-30', '2019-07-31', '2019-08-31', '2019-09-30', '2019-10-31', '2019-11-30', '2019-12-31',\n",
    " '2020-01-31', '2020-02-29','2020-03-31','2020-04-30','2020-05-31','2020-06-30','2020-07-31','2020-08-31','2020-09-30',\n",
    " '2020-10-31', '2020-11-30', '2020-12-31', '2021-01-31', '2021-02-28',\n",
    " '2021-03-31', '2021-04-30', '2021-05-31', '2021-06-30', '2021-07-31', '2021-08-31', '2021-09-30',\n",
    " '2021-10-31','2021-11-30','2021-12-31', '2022-01-31','2022-02-28','2022-03-31',\n",
    " '2022-04-30','2022-05-31','2022-06-30','2022-07-31','2022-08-31','2022-09-30',\n",
    " '2022-10-31','2022-11-30','2022-12-31', '2023-01-31','2023-02-28','2023-03-31',\n",
    " '2023-04-30','2023-05-31','2023-06-30','2023-07-31','2023-08-31','2023-09-30',\n",
    " '2023-10-31','2023-11-30','2023-12-31','2024-01-31','2024-02-29','2024-03-31',\n",
    " '2024-04-30','2024-05-31','2024-06-30','2024-07-31','2024-08-31','2024-09-30']"
   ]
  },
  {
   "cell_type": "code",
   "execution_count": null,
   "id": "0d4fbed4-a6fa-4b69-b08e-35d108eb1252",
   "metadata": {},
   "outputs": [],
   "source": []
  },
  {
   "cell_type": "markdown",
   "id": "1131ee58-5497-4cdd-91d9-e82a68b2b1e5",
   "metadata": {},
   "source": [
    "## Melt the dataframe"
   ]
  },
  {
   "cell_type": "code",
   "execution_count": 22,
   "id": "fe7e4005-f8d8-42b0-8e50-fbbb39180f3f",
   "metadata": {},
   "outputs": [
    {
     "data": {
      "text/plain": [
       "(851, 302)"
      ]
     },
     "execution_count": 22,
     "metadata": {},
     "output_type": "execute_result"
    }
   ],
   "source": [
    "df.shape"
   ]
  },
  {
   "cell_type": "code",
   "execution_count": 25,
   "id": "f4aa8727-a5b5-4dc2-8bff-0aebc65fc82b",
   "metadata": {},
   "outputs": [
    {
     "data": {
      "text/html": [
       "<div>\n",
       "<style scoped>\n",
       "    .dataframe tbody tr th:only-of-type {\n",
       "        vertical-align: middle;\n",
       "    }\n",
       "\n",
       "    .dataframe tbody tr th {\n",
       "        vertical-align: top;\n",
       "    }\n",
       "\n",
       "    .dataframe thead th {\n",
       "        text-align: right;\n",
       "    }\n",
       "</style>\n",
       "<table border=\"1\" class=\"dataframe\">\n",
       "  <thead>\n",
       "    <tr style=\"text-align: right;\">\n",
       "      <th></th>\n",
       "      <th>RegionID</th>\n",
       "      <th>SizeRank</th>\n",
       "      <th>RegionName</th>\n",
       "      <th>RegionType</th>\n",
       "      <th>StateName</th>\n",
       "      <th>2000-01-31</th>\n",
       "      <th>2000-02-29</th>\n",
       "      <th>2000-03-31</th>\n",
       "      <th>2000-04-30</th>\n",
       "      <th>2000-05-31</th>\n",
       "      <th>...</th>\n",
       "      <th>2023-12-31</th>\n",
       "      <th>2024-01-31</th>\n",
       "      <th>2024-02-29</th>\n",
       "      <th>2024-03-31</th>\n",
       "      <th>2024-04-30</th>\n",
       "      <th>2024-05-31</th>\n",
       "      <th>2024-06-30</th>\n",
       "      <th>2024-07-31</th>\n",
       "      <th>2024-08-31</th>\n",
       "      <th>2024-09-30</th>\n",
       "    </tr>\n",
       "  </thead>\n",
       "  <tbody>\n",
       "    <tr>\n",
       "      <th>584</th>\n",
       "      <td>753911</td>\n",
       "      <td>608</td>\n",
       "      <td>Ozark, AL</td>\n",
       "      <td>msa</td>\n",
       "      <td>AL</td>\n",
       "      <td>NaN</td>\n",
       "      <td>NaN</td>\n",
       "      <td>NaN</td>\n",
       "      <td>NaN</td>\n",
       "      <td>NaN</td>\n",
       "      <td>...</td>\n",
       "      <td>95529.689979</td>\n",
       "      <td>95999.44648</td>\n",
       "      <td>96381.228936</td>\n",
       "      <td>97091.524091</td>\n",
       "      <td>98185.434861</td>\n",
       "      <td>99358.807267</td>\n",
       "      <td>100170.309181</td>\n",
       "      <td>100421.976483</td>\n",
       "      <td>100459.92184</td>\n",
       "      <td>100084.901466</td>\n",
       "    </tr>\n",
       "  </tbody>\n",
       "</table>\n",
       "<p>1 rows × 302 columns</p>\n",
       "</div>"
      ],
      "text/plain": [
       "     RegionID  SizeRank RegionName RegionType StateName  2000-01-31  \\\n",
       "584    753911       608  Ozark, AL        msa        AL         NaN   \n",
       "\n",
       "     2000-02-29  2000-03-31  2000-04-30  2000-05-31  ...    2023-12-31  \\\n",
       "584         NaN         NaN         NaN         NaN  ...  95529.689979   \n",
       "\n",
       "      2024-01-31    2024-02-29    2024-03-31    2024-04-30    2024-05-31  \\\n",
       "584  95999.44648  96381.228936  97091.524091  98185.434861  99358.807267   \n",
       "\n",
       "        2024-06-30     2024-07-31    2024-08-31     2024-09-30  \n",
       "584  100170.309181  100421.976483  100459.92184  100084.901466  \n",
       "\n",
       "[1 rows x 302 columns]"
      ]
     },
     "execution_count": 25,
     "metadata": {},
     "output_type": "execute_result"
    }
   ],
   "source": [
    "df.sample()"
   ]
  },
  {
   "cell_type": "code",
   "execution_count": 26,
   "id": "bc08bce4-5d5b-4b6d-ac05-af2b408a027d",
   "metadata": {},
   "outputs": [],
   "source": [
    "melted_df = df.melt(id_vars=['RegionID', 'SizeRank', 'RegionName', 'RegionType', 'StateName',]\n",
    "                    ,value_vars=time_cols, )"
   ]
  },
  {
   "cell_type": "code",
   "execution_count": 27,
   "id": "313445f2-ff76-4b5a-bb5f-cb9d4e059cbe",
   "metadata": {},
   "outputs": [
    {
     "data": {
      "text/plain": [
       "(252747, 7)"
      ]
     },
     "execution_count": 27,
     "metadata": {},
     "output_type": "execute_result"
    }
   ],
   "source": [
    "melted_df.shape"
   ]
  },
  {
   "cell_type": "code",
   "execution_count": 29,
   "id": "36006a2b-6d52-4a7b-8bca-d982bb51c707",
   "metadata": {},
   "outputs": [
    {
     "data": {
      "text/html": [
       "<div>\n",
       "<style scoped>\n",
       "    .dataframe tbody tr th:only-of-type {\n",
       "        vertical-align: middle;\n",
       "    }\n",
       "\n",
       "    .dataframe tbody tr th {\n",
       "        vertical-align: top;\n",
       "    }\n",
       "\n",
       "    .dataframe thead th {\n",
       "        text-align: right;\n",
       "    }\n",
       "</style>\n",
       "<table border=\"1\" class=\"dataframe\">\n",
       "  <thead>\n",
       "    <tr style=\"text-align: right;\">\n",
       "      <th></th>\n",
       "      <th>RegionID</th>\n",
       "      <th>SizeRank</th>\n",
       "      <th>RegionName</th>\n",
       "      <th>RegionType</th>\n",
       "      <th>StateName</th>\n",
       "      <th>variable</th>\n",
       "      <th>value</th>\n",
       "    </tr>\n",
       "  </thead>\n",
       "  <tbody>\n",
       "    <tr>\n",
       "      <th>206281</th>\n",
       "      <td>394778</td>\n",
       "      <td>349</td>\n",
       "      <td>Lawrence, KS</td>\n",
       "      <td>msa</td>\n",
       "      <td>KS</td>\n",
       "      <td>2020-03-31</td>\n",
       "      <td>147935.114338</td>\n",
       "    </tr>\n",
       "    <tr>\n",
       "      <th>243174</th>\n",
       "      <td>394886</td>\n",
       "      <td>667</td>\n",
       "      <td>Mount Pleasant, TX</td>\n",
       "      <td>msa</td>\n",
       "      <td>TX</td>\n",
       "      <td>2023-10-31</td>\n",
       "      <td>158700.083631</td>\n",
       "    </tr>\n",
       "    <tr>\n",
       "      <th>47111</th>\n",
       "      <td>394577</td>\n",
       "      <td>315</td>\n",
       "      <td>Eureka, CA</td>\n",
       "      <td>msa</td>\n",
       "      <td>CA</td>\n",
       "      <td>2004-08-31</td>\n",
       "      <td>188485.635757</td>\n",
       "    </tr>\n",
       "  </tbody>\n",
       "</table>\n",
       "</div>"
      ],
      "text/plain": [
       "        RegionID  SizeRank          RegionName RegionType StateName  \\\n",
       "206281    394778       349        Lawrence, KS        msa        KS   \n",
       "243174    394886       667  Mount Pleasant, TX        msa        TX   \n",
       "47111     394577       315          Eureka, CA        msa        CA   \n",
       "\n",
       "          variable          value  \n",
       "206281  2020-03-31  147935.114338  \n",
       "243174  2023-10-31  158700.083631  \n",
       "47111   2004-08-31  188485.635757  "
      ]
     },
     "execution_count": 29,
     "metadata": {},
     "output_type": "execute_result"
    }
   ],
   "source": [
    "melted_df.sample(3)"
   ]
  },
  {
   "cell_type": "code",
   "execution_count": 30,
   "id": "dbd44ce4-94ce-415c-9926-e5212d70ca73",
   "metadata": {},
   "outputs": [],
   "source": [
    "melted_df.rename({'variable':'Timestamp'}, axis='columns', inplace=True)"
   ]
  },
  {
   "cell_type": "code",
   "execution_count": 31,
   "id": "4009950c-7371-4c2d-b6fe-0e17be45e3ce",
   "metadata": {},
   "outputs": [
    {
     "data": {
      "text/html": [
       "<div>\n",
       "<style scoped>\n",
       "    .dataframe tbody tr th:only-of-type {\n",
       "        vertical-align: middle;\n",
       "    }\n",
       "\n",
       "    .dataframe tbody tr th {\n",
       "        vertical-align: top;\n",
       "    }\n",
       "\n",
       "    .dataframe thead th {\n",
       "        text-align: right;\n",
       "    }\n",
       "</style>\n",
       "<table border=\"1\" class=\"dataframe\">\n",
       "  <thead>\n",
       "    <tr style=\"text-align: right;\">\n",
       "      <th></th>\n",
       "      <th>RegionID</th>\n",
       "      <th>SizeRank</th>\n",
       "      <th>RegionName</th>\n",
       "      <th>RegionType</th>\n",
       "      <th>StateName</th>\n",
       "      <th>Timestamp</th>\n",
       "      <th>value</th>\n",
       "    </tr>\n",
       "  </thead>\n",
       "  <tbody>\n",
       "    <tr>\n",
       "      <th>65268</th>\n",
       "      <td>395043</td>\n",
       "      <td>618</td>\n",
       "      <td>Ruston, LA</td>\n",
       "      <td>msa</td>\n",
       "      <td>LA</td>\n",
       "      <td>2006-05-31</td>\n",
       "      <td>73512.693779</td>\n",
       "    </tr>\n",
       "    <tr>\n",
       "      <th>73350</th>\n",
       "      <td>394741</td>\n",
       "      <td>168</td>\n",
       "      <td>Kennewick, WA</td>\n",
       "      <td>msa</td>\n",
       "      <td>WA</td>\n",
       "      <td>2007-03-31</td>\n",
       "      <td>124093.427477</td>\n",
       "    </tr>\n",
       "    <tr>\n",
       "      <th>241486</th>\n",
       "      <td>394449</td>\n",
       "      <td>681</td>\n",
       "      <td>Celina, OH</td>\n",
       "      <td>msa</td>\n",
       "      <td>OH</td>\n",
       "      <td>2023-08-31</td>\n",
       "      <td>162484.243546</td>\n",
       "    </tr>\n",
       "  </tbody>\n",
       "</table>\n",
       "</div>"
      ],
      "text/plain": [
       "        RegionID  SizeRank     RegionName RegionType StateName   Timestamp  \\\n",
       "65268     395043       618     Ruston, LA        msa        LA  2006-05-31   \n",
       "73350     394741       168  Kennewick, WA        msa        WA  2007-03-31   \n",
       "241486    394449       681     Celina, OH        msa        OH  2023-08-31   \n",
       "\n",
       "                value  \n",
       "65268    73512.693779  \n",
       "73350   124093.427477  \n",
       "241486  162484.243546  "
      ]
     },
     "execution_count": 31,
     "metadata": {},
     "output_type": "execute_result"
    }
   ],
   "source": [
    "melted_df.sample(3)"
   ]
  },
  {
   "cell_type": "code",
   "execution_count": 32,
   "id": "c13c59ae-db2e-4406-abc5-899a28531981",
   "metadata": {},
   "outputs": [
    {
     "name": "stdout",
     "output_type": "stream",
     "text": [
      "<class 'pandas.core.frame.DataFrame'>\n",
      "RangeIndex: 252747 entries, 0 to 252746\n",
      "Data columns (total 7 columns):\n",
      " #   Column      Non-Null Count   Dtype  \n",
      "---  ------      --------------   -----  \n",
      " 0   RegionID    252747 non-null  int64  \n",
      " 1   SizeRank    252747 non-null  int64  \n",
      " 2   RegionName  252747 non-null  object \n",
      " 3   RegionType  252747 non-null  object \n",
      " 4   StateName   252450 non-null  object \n",
      " 5   Timestamp   252747 non-null  object \n",
      " 6   value       206019 non-null  float64\n",
      "dtypes: float64(1), int64(2), object(4)\n",
      "memory usage: 13.5+ MB\n"
     ]
    }
   ],
   "source": [
    "melted_df.info()"
   ]
  },
  {
   "cell_type": "code",
   "execution_count": null,
   "id": "9da3cdb9-0e00-4bcb-8167-171a8b609a90",
   "metadata": {},
   "outputs": [],
   "source": []
  }
 ],
 "metadata": {
  "kernelspec": {
   "display_name": "Python 3",
   "language": "python",
   "name": "python3"
  },
  "language_info": {
   "codemirror_mode": {
    "name": "ipython",
    "version": 3
   },
   "file_extension": ".py",
   "mimetype": "text/x-python",
   "name": "python",
   "nbconvert_exporter": "python",
   "pygments_lexer": "ipython3",
   "version": "3.8.8"
  }
 },
 "nbformat": 4,
 "nbformat_minor": 5
}
